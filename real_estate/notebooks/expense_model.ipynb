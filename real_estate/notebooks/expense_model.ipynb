{
 "cells": [
  {
   "cell_type": "code",
   "execution_count": 1,
   "metadata": {},
   "outputs": [],
   "source": [
    "# Built-in dependencies\n",
    "import sys\n",
    "from typing import Optional\n",
    "\n",
    "# External dependencies\n",
    "import numpy as np\n",
    "import pandas as pd"
   ]
  },
  {
   "cell_type": "code",
   "execution_count": 2,
   "metadata": {},
   "outputs": [],
   "source": [
    "# Local dependencies\n",
    "sys.path.append(r\"C:\\Users\\marcu\\Documents\\Quant\\Programming\\real_estate\")\n",
    "from real_estate.models import ExpenseModel\n",
    "from real_estate.models.random_variables import BoundedNormalRandomVariable, RandomVariable"
   ]
  },
  {
   "cell_type": "code",
   "execution_count": 3,
   "metadata": {},
   "outputs": [],
   "source": [
    "# Define None expense for testing\n",
    "HOA_EXPENSE: Optional[float] = None\n",
    "\n",
    "# Define constant expense for testing\n",
    "INSURACE_EXPENSE: float = 150.0\n",
    "\n",
    "# Define random expense for testing\n",
    "UTILITY_EXPENSE_MU: float = 100.0\n",
    "UTILITY_EXPENSE_SIGMA: float = 20.0\n",
    "UTILITY_EXPENSE_LOWER_BOUND: float = 50.0\n",
    "UTILITY_EXPENSE_UPPER_BOUND: float = 200.0\n",
    "UTILITY_EXPENSE: RandomVariable = BoundedNormalRandomVariable(mu=UTILITY_EXPENSE_MU, sigma=UTILITY_EXPENSE_SIGMA, lower_bound=UTILITY_EXPENSE_LOWER_BOUND, upper_bound=UTILITY_EXPENSE_UPPER_BOUND)"
   ]
  },
  {
   "cell_type": "code",
   "execution_count": 4,
   "metadata": {},
   "outputs": [],
   "source": [
    "expense_model = ExpenseModel(hoa_expense=HOA_EXPENSE, insurance_expense=INSURACE_EXPENSE, utility_expense=UTILITY_EXPENSE)"
   ]
  },
  {
   "cell_type": "code",
   "execution_count": 23,
   "metadata": {},
   "outputs": [
    {
     "data": {
      "text/plain": [
       "(197.53121516254538,\n",
       " array([[277.24251106, 252.61198981, 271.323535  , 253.83238396,\n",
       "         211.41782543, 259.31570902, 236.67502232, 227.61949596,\n",
       "         244.50442299, 249.34674024],\n",
       "        [236.80114899, 264.0175464 , 226.05640857, 241.17110008,\n",
       "         261.3973012 , 251.47830559, 222.21372539, 232.64512052,\n",
       "         233.79494626, 228.07909317]]))"
      ]
     },
     "execution_count": 23,
     "metadata": {},
     "output_type": "execute_result"
    }
   ],
   "source": [
    "expense_model(), expense_model(shape=(2, 10))"
   ]
  },
  {
   "cell_type": "code",
   "execution_count": 24,
   "metadata": {},
   "outputs": [
    {
     "data": {
      "text/plain": [
       "(0.0,\n",
       " array([[0., 0., 0., 0., 0., 0., 0., 0., 0., 0.],\n",
       "        [0., 0., 0., 0., 0., 0., 0., 0., 0., 0.]]))"
      ]
     },
     "execution_count": 24,
     "metadata": {},
     "output_type": "execute_result"
    }
   ],
   "source": [
    "hoa_expense_model = ExpenseModel(hoa_expense=HOA_EXPENSE)\n",
    "hoa_expense_model(), hoa_expense_model(shape=(2, 10)) "
   ]
  },
  {
   "cell_type": "code",
   "execution_count": 27,
   "metadata": {},
   "outputs": [
    {
     "data": {
      "text/plain": [
       "(150.0,\n",
       " array([[150., 150., 150., 150., 150., 150., 150., 150., 150., 150.],\n",
       "        [150., 150., 150., 150., 150., 150., 150., 150., 150., 150.]]))"
      ]
     },
     "execution_count": 27,
     "metadata": {},
     "output_type": "execute_result"
    }
   ],
   "source": [
    "insurance_expense_model = ExpenseModel(insurance_expense=INSURACE_EXPENSE)\n",
    "insurance_expense_model(), insurance_expense_model(shape=(2, 10)) "
   ]
  },
  {
   "cell_type": "code",
   "execution_count": 31,
   "metadata": {},
   "outputs": [
    {
     "data": {
      "text/plain": [
       "(49.2495231180509,\n",
       " array([[ 89.33967448,  87.65238142,  65.92014773,  90.31294423,\n",
       "          85.81230074, 109.79206884, 126.55147619,  78.43456106,\n",
       "          99.08572621,  80.83293253],\n",
       "        [123.48226101,  79.20051777,  95.40881801, 119.29964939,\n",
       "         128.80883063, 104.04873287,  83.92938058, 102.87463247,\n",
       "         128.80646723,  93.18968099]]))"
      ]
     },
     "execution_count": 31,
     "metadata": {},
     "output_type": "execute_result"
    }
   ],
   "source": [
    "utility_expense_model = ExpenseModel(utility_expense=UTILITY_EXPENSE)\n",
    "utility_expense_model(), utility_expense_model(shape=(2, 10)) "
   ]
  }
 ],
 "metadata": {
  "kernelspec": {
   "display_name": "real_estate",
   "language": "python",
   "name": "python3"
  },
  "language_info": {
   "codemirror_mode": {
    "name": "ipython",
    "version": 3
   },
   "file_extension": ".py",
   "mimetype": "text/x-python",
   "name": "python",
   "nbconvert_exporter": "python",
   "pygments_lexer": "ipython3",
   "version": "3.12.3"
  }
 },
 "nbformat": 4,
 "nbformat_minor": 2
}
