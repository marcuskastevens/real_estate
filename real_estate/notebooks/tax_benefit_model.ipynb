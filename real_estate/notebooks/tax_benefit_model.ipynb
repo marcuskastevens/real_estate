{
 "cells": [
  {
   "cell_type": "code",
   "execution_count": 1,
   "metadata": {},
   "outputs": [],
   "source": [
    "# Built-in dependencies\n",
    "import sys\n",
    "from typing import Optional\n",
    "\n",
    "# External dependencies\n",
    "import numpy as np\n",
    "import pandas as pd"
   ]
  },
  {
   "cell_type": "code",
   "execution_count": 2,
   "metadata": {},
   "outputs": [],
   "source": [
    "# Local dependencies\n",
    "sys.path.append(r\"C:\\Users\\marcu\\Documents\\Quant\\Programming\\real_estate\")\n",
    "\n",
    "from real_estate.models import TaxBenefitModel"
   ]
  },
  {
   "cell_type": "code",
   "execution_count": 3,
   "metadata": {},
   "outputs": [],
   "source": [
    "N: int = 30 * 12\n",
    "PROPERTY_VALUE: float = 400_000.00"
   ]
  },
  {
   "cell_type": "code",
   "execution_count": 4,
   "metadata": {},
   "outputs": [],
   "source": [
    "tax_benefit_model = TaxBenefitModel(n=N, property_value=PROPERTY_VALUE)"
   ]
  },
  {
   "cell_type": "code",
   "execution_count": 5,
   "metadata": {},
   "outputs": [
    {
     "data": {
      "text/plain": [
       "22777.777777777777"
      ]
     },
     "execution_count": 5,
     "metadata": {},
     "output_type": "execute_result"
    }
   ],
   "source": [
    "INTEREST_EXPENSE: float = 70_000.00\n",
    "tax_benefit_model(interest_expense=INTEREST_EXPENSE)"
   ]
  },
  {
   "cell_type": "code",
   "execution_count": 6,
   "metadata": {},
   "outputs": [
    {
     "data": {
      "text/plain": [
       "array([[1777.76292439, 1777.75467974, 1778.21186452, 1777.59414549,\n",
       "        1777.99513188, 1777.54060572, 1777.95577908, 1778.15536664,\n",
       "        1778.25825893, 1777.59154886, 1778.01752343, 1777.98838577,\n",
       "        1777.88842091, 1777.58226112, 1777.4591167 , 1778.14676792,\n",
       "        1777.64133146, 1777.85945454, 1777.64611082, 1777.57850925],\n",
       "       [1777.58335101, 1777.78036147, 1777.80779652, 1777.80518388,\n",
       "        1777.35851964, 1778.1112297 , 1777.72783329, 1777.41870282,\n",
       "        1777.91491168, 1777.90839035, 1778.06929835, 1777.71132898,\n",
       "        1777.60563895, 1777.83142106, 1777.67458882, 1777.44471365,\n",
       "        1777.178067  , 1777.55849586, 1777.29821378, 1778.36724707]])"
      ]
     },
     "execution_count": 6,
     "metadata": {},
     "output_type": "execute_result"
    }
   ],
   "source": [
    "INTEREST_EXPENSE: np.ndarray = np.random.randn(2, 20)\n",
    "tax_benefit_model(interest_expense=INTEREST_EXPENSE)"
   ]
  }
 ],
 "metadata": {
  "kernelspec": {
   "display_name": "real_estate",
   "language": "python",
   "name": "python3"
  },
  "language_info": {
   "codemirror_mode": {
    "name": "ipython",
    "version": 3
   },
   "file_extension": ".py",
   "mimetype": "text/x-python",
   "name": "python",
   "nbconvert_exporter": "python",
   "pygments_lexer": "ipython3",
   "version": "3.12.3"
  }
 },
 "nbformat": 4,
 "nbformat_minor": 2
}
