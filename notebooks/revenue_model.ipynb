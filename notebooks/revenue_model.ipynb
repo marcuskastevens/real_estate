{
 "cells": [
  {
   "cell_type": "code",
   "execution_count": 1,
   "metadata": {},
   "outputs": [],
   "source": [
    "# Built-in dependencies\n",
    "import sys\n",
    "from typing import Optional\n",
    "\n",
    "# External dependencies\n",
    "import numpy as np\n",
    "import pandas as pd"
   ]
  },
  {
   "cell_type": "code",
   "execution_count": 2,
   "metadata": {},
   "outputs": [],
   "source": [
    "# Local dependencies\n",
    "sys.path.append(r\"C:\\Users\\marcu\\Documents\\Quant\\Programming\\real_estate\")\n",
    "from real_estate.models import RevenueModel\n",
    "from real_estate.models.random_variables import BoundedNormalRandomVariable, RandomVariable"
   ]
  },
  {
   "cell_type": "code",
   "execution_count": 3,
   "metadata": {},
   "outputs": [],
   "source": [
    "RENT: float = 4_000.00\n",
    "\n",
    "# Define random expense for testing\n",
    "OCCUPANCY_RATE_MU: float = 0.95\n",
    "OCCUPANCY_RATE_SIGMA: float = 0.02\n",
    "OCCUPANCY_RATE_LOWER_BOUND: float = 0.50\n",
    "OCCUPANCY_RATE_UPPER_BOUND: float = 1.00\n",
    "OCCUPANCY_RATE: RandomVariable = BoundedNormalRandomVariable(\n",
    "    mu=OCCUPANCY_RATE_MU, \n",
    "    sigma=OCCUPANCY_RATE_SIGMA, \n",
    "    lower_bound=OCCUPANCY_RATE_LOWER_BOUND, \n",
    "    upper_bound=OCCUPANCY_RATE_UPPER_BOUND\n",
    ")"
   ]
  },
  {
   "cell_type": "code",
   "execution_count": 4,
   "metadata": {},
   "outputs": [],
   "source": [
    "revenue_model = RevenueModel(rent=RENT, occupancy_rate=OCCUPANCY_RATE)"
   ]
  },
  {
   "cell_type": "code",
   "execution_count": 5,
   "metadata": {},
   "outputs": [
    {
     "data": {
      "text/plain": [
       "(4042.962947127485,\n",
       " array([[3809.75867258, 3897.98173536, 3863.64988971, 3904.68378866,\n",
       "         3840.69243233, 3834.03429779, 3804.56717821, 3751.98697762,\n",
       "         3861.94519796, 3793.95274118],\n",
       "        [3863.76866835, 3887.51213991, 3689.20116414, 3723.44854029,\n",
       "         3753.15315224, 3831.77131492, 3758.19992223, 3855.33480001,\n",
       "         3694.61954012, 3838.42246358]]))"
      ]
     },
     "execution_count": 5,
     "metadata": {},
     "output_type": "execute_result"
    }
   ],
   "source": [
    "revenue_model(), revenue_model(shape=(2, 10))"
   ]
  }
 ],
 "metadata": {
  "kernelspec": {
   "display_name": "real_estate",
   "language": "python",
   "name": "python3"
  },
  "language_info": {
   "codemirror_mode": {
    "name": "ipython",
    "version": 3
   },
   "file_extension": ".py",
   "mimetype": "text/x-python",
   "name": "python",
   "nbconvert_exporter": "python",
   "pygments_lexer": "ipython3",
   "version": "3.12.3"
  }
 },
 "nbformat": 4,
 "nbformat_minor": 2
}
