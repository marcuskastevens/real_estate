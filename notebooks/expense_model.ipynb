{
 "cells": [
  {
   "cell_type": "code",
   "execution_count": 1,
   "metadata": {},
   "outputs": [],
   "source": [
    "# Built-in dependencies\n",
    "import sys\n",
    "from typing import Optional\n",
    "\n",
    "# External dependencies\n",
    "import numpy as np\n",
    "import pandas as pd"
   ]
  },
  {
   "cell_type": "code",
   "execution_count": 6,
   "metadata": {},
   "outputs": [],
   "source": [
    "# Local dependencies\n",
    "sys.path.append(r\"C:\\Users\\marcu\\Documents\\Quant\\Programming\\real_estate\")\n",
    "from real_estate.models import ExpenseModel\n",
    "from real_estate.models.random_variables import BoundedNormalRandomVariable, RandomVariable"
   ]
  },
  {
   "cell_type": "code",
   "execution_count": 7,
   "metadata": {},
   "outputs": [],
   "source": [
    "# Define None expense for testing\n",
    "HOA_EXPENSE: Optional[float] = None\n",
    "\n",
    "# Define constant expense for testing\n",
    "INSURACE_EXPENSE: float = 150.0\n",
    "\n",
    "# Define random expense for testing\n",
    "UTILITY_EXPENSE_MU: float = 100.0\n",
    "UTILITY_EXPENSE_SIGMA: float = 20.0\n",
    "UTILITY_EXPENSE_LOWER_BOUND: float = 50.0\n",
    "UTILITY_EXPENSE_UPPER_BOUND: float = 200.0\n",
    "UTILITY_EXPENSE: RandomVariable = BoundedNormalRandomVariable(mu=UTILITY_EXPENSE_MU, sigma=UTILITY_EXPENSE_SIGMA, lower_bound=UTILITY_EXPENSE_LOWER_BOUND, upper_bound=UTILITY_EXPENSE_UPPER_BOUND)"
   ]
  },
  {
   "cell_type": "code",
   "execution_count": 8,
   "metadata": {},
   "outputs": [],
   "source": [
    "expense_model = ExpenseModel(hoa_expense=HOA_EXPENSE, insurance_expense=INSURACE_EXPENSE, utility_expense=UTILITY_EXPENSE)"
   ]
  },
  {
   "cell_type": "code",
   "execution_count": 9,
   "metadata": {},
   "outputs": [
    {
     "data": {
      "text/plain": [
       "(192.42861477483046,\n",
       " array([[264.82064938, 223.68088897, 264.14776006, 266.22632088,\n",
       "         205.04071228, 285.84132946, 243.65933814, 230.40539709,\n",
       "         276.32176996, 240.73628532],\n",
       "        [230.86322899, 253.04429915, 264.5521373 , 249.01643812,\n",
       "         253.36180317, 267.71801519, 244.86583092, 292.00570494,\n",
       "         255.82944783, 239.45297871]]))"
      ]
     },
     "execution_count": 9,
     "metadata": {},
     "output_type": "execute_result"
    }
   ],
   "source": [
    "expense_model(), expense_model(shape=(2, 10))"
   ]
  },
  {
   "cell_type": "code",
   "execution_count": 10,
   "metadata": {},
   "outputs": [
    {
     "data": {
      "text/plain": [
       "(0.0,\n",
       " array([[0., 0., 0., 0., 0., 0., 0., 0., 0., 0.],\n",
       "        [0., 0., 0., 0., 0., 0., 0., 0., 0., 0.]]))"
      ]
     },
     "execution_count": 10,
     "metadata": {},
     "output_type": "execute_result"
    }
   ],
   "source": [
    "hoa_expense_model = ExpenseModel(hoa_expense=HOA_EXPENSE)\n",
    "hoa_expense_model(), hoa_expense_model(shape=(2, 10)) "
   ]
  },
  {
   "cell_type": "code",
   "execution_count": 11,
   "metadata": {},
   "outputs": [
    {
     "data": {
      "text/plain": [
       "(150.0,\n",
       " array([[150., 150., 150., 150., 150., 150., 150., 150., 150., 150.],\n",
       "        [150., 150., 150., 150., 150., 150., 150., 150., 150., 150.]]))"
      ]
     },
     "execution_count": 11,
     "metadata": {},
     "output_type": "execute_result"
    }
   ],
   "source": [
    "insurance_expense_model = ExpenseModel(insurance_expense=INSURACE_EXPENSE)\n",
    "insurance_expense_model(), insurance_expense_model(shape=(2, 10)) "
   ]
  },
  {
   "cell_type": "code",
   "execution_count": 20,
   "metadata": {},
   "outputs": [
    {
     "data": {
      "text/plain": [
       "(46.69340803794749,\n",
       " array([[ 88.32780233, 121.22664315,  94.44652828, 122.07241332,\n",
       "          80.22530624, 119.53648982, 108.32006645,  86.39007683,\n",
       "          90.93295588, 114.85773238],\n",
       "        [ 76.55434328,  69.6669952 , 151.51493547,  85.42155441,\n",
       "         119.80288826, 118.20418971, 100.08420768,  97.53498001,\n",
       "          84.35762134, 104.17988713]]))"
      ]
     },
     "execution_count": 20,
     "metadata": {},
     "output_type": "execute_result"
    }
   ],
   "source": [
    "utility_expense_model = ExpenseModel(utility_expense=UTILITY_EXPENSE)\n",
    "utility_expense_model(), utility_expense_model(shape=(2, 10))"
   ]
  }
 ],
 "metadata": {
  "kernelspec": {
   "display_name": "real_estate",
   "language": "python",
   "name": "python3"
  },
  "language_info": {
   "codemirror_mode": {
    "name": "ipython",
    "version": 3
   },
   "file_extension": ".py",
   "mimetype": "text/x-python",
   "name": "python",
   "nbconvert_exporter": "python",
   "pygments_lexer": "ipython3",
   "version": "3.12.3"
  }
 },
 "nbformat": 4,
 "nbformat_minor": 2
}
